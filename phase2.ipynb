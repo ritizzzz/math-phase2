{
 "cells": [
  {
   "cell_type": "markdown",
   "id": "181297df",
   "metadata": {},
   "source": [
    "# Predicting Diamond Prices\n",
    "## Phase 2: Statistical Modelling"
   ]
  },
  {
   "cell_type": "markdown",
   "id": "8e684cfd",
   "metadata": {},
   "source": [
    " **Group Name:** Group 5 demons <br>\n",
    " **Group Member:** <br>\n",
    " Saumya Anand s3931404<br>\n",
    " Nikith Kaluwitharana - s3943409<br>\n",
    " Ritish Kandel - s3947204<br>\n",
    " Jayden Carr - s3900432"
   ]
  },
  {
   "cell_type": "markdown",
   "id": "baecff11",
   "metadata": {},
   "source": [
    "## Table of Contents\n",
    "- [Introduction](#intro)\n",
    "- [Statistical Modelling](#sm)\n",
    "- [Critique & Limitations](#cl)\n",
    "- [Summary & Conclusions](#sc)"
   ]
  },
  {
   "cell_type": "markdown",
   "id": "c32b0b36",
   "metadata": {},
   "source": [
    "## Introduction <a id='intro'></a>"
   ]
  },
  {
   "cell_type": "markdown",
   "id": "bc9e683e",
   "metadata": {},
   "source": [
    "### Phase 1 Summary"
   ]
  },
  {
   "cell_type": "markdown",
   "id": "9bc553b4",
   "metadata": {},
   "source": [
    "Phase 1 Summary\n",
    "\n",
    "The accurate prediction of the price of diamonds has many benefits to each stakeholder, which includes; buyers, sellers, businesses and large scale companies. The goal of phase 1 was to help to see if the price could be predicted using multiple linear regression graphs.\n",
    "\n",
    "While some insights were gained by observing the price in respect to the clarity and carat which showed that as the carat goes higher, and as the clarity is better, the price increases, meaning that the carat and clarity affect the price more so than others where the cuts was opposed to clarity in respect to price where both performed differently for each category they were in, meaning that those two factors together could not determine the price entirely. \n"
   ]
  },
  {
   "cell_type": "markdown",
   "id": "a389bd0f",
   "metadata": {},
   "source": [
    "### Report Overview"
   ]
  },
  {
   "cell_type": "markdown",
   "id": "ddf2ca81",
   "metadata": {},
   "source": [
    "A complete and accurate overview of the contents of your Phase 2 report. Clarification: A Table of Contents is not a report overview."
   ]
  },
  {
   "cell_type": "markdown",
   "id": "3c82935b",
   "metadata": {},
   "source": [
    "### Overview of Methodology"
   ]
  },
  {
   "cell_type": "markdown",
   "id": "b5e974a2",
   "metadata": {},
   "source": [
    "A detailed, complete, and accurate overview of your statistical modelling methodology (which is multiple linear regression). More specifically, in this subsection, you will provide a summary of your \"Statistical Modelling\" section below."
   ]
  },
  {
   "cell_type": "markdown",
   "id": "577b75e2",
   "metadata": {},
   "source": [
    "## Statistical Modelling <a id='sm'></a>"
   ]
  },
  {
   "cell_type": "markdown",
   "id": "07de336d",
   "metadata": {},
   "source": [
    "(Statistical Modelling Section: Details of assumptions check, model selection, plots of residuals, and technical analysis of regression results.)\n",
    "\n",
    "**NOTE:** The second half of [this](https://github.com/akmand/stats_tutorials/blob/main/regression_case_study_predicting_age_in_census_data.ipynb) regression case study (\"Statistical Modeling and Performance Evaluation\" Section) will be **very helpful** for this section."
   ]
  },
  {
   "cell_type": "markdown",
   "id": "3afa3bfe",
   "metadata": {},
   "source": [
    "### Full Model Overview"
   ]
  },
  {
   "cell_type": "markdown",
   "id": "7cc56d4d",
   "metadata": {},
   "source": [
    "Overview of your full model, including the variables and terms you are using in your model."
   ]
  },
  {
   "cell_type": "markdown",
   "id": "d40dea51",
   "metadata": {},
   "source": [
    "#### Module Imports"
   ]
  },
  {
   "cell_type": "code",
   "execution_count": 3,
   "id": "b99645f8",
   "metadata": {},
   "outputs": [
    {
     "data": {
      "text/html": [
       "<div>\n",
       "<style scoped>\n",
       "    .dataframe tbody tr th:only-of-type {\n",
       "        vertical-align: middle;\n",
       "    }\n",
       "\n",
       "    .dataframe tbody tr th {\n",
       "        vertical-align: top;\n",
       "    }\n",
       "\n",
       "    .dataframe thead th {\n",
       "        text-align: right;\n",
       "    }\n",
       "</style>\n",
       "<table border=\"1\" class=\"dataframe\">\n",
       "  <thead>\n",
       "    <tr style=\"text-align: right;\">\n",
       "      <th></th>\n",
       "      <th>carat</th>\n",
       "      <th>cut</th>\n",
       "      <th>color</th>\n",
       "      <th>clarity</th>\n",
       "      <th>depth</th>\n",
       "      <th>table</th>\n",
       "      <th>x</th>\n",
       "      <th>y</th>\n",
       "      <th>z</th>\n",
       "      <th>price</th>\n",
       "    </tr>\n",
       "  </thead>\n",
       "  <tbody>\n",
       "    <tr>\n",
       "      <th>0</th>\n",
       "      <td>0.23</td>\n",
       "      <td>Ideal</td>\n",
       "      <td>E</td>\n",
       "      <td>SI2</td>\n",
       "      <td>61.5</td>\n",
       "      <td>55.0</td>\n",
       "      <td>3.95</td>\n",
       "      <td>3.98</td>\n",
       "      <td>2.43</td>\n",
       "      <td>326</td>\n",
       "    </tr>\n",
       "    <tr>\n",
       "      <th>1</th>\n",
       "      <td>0.21</td>\n",
       "      <td>Premium</td>\n",
       "      <td>E</td>\n",
       "      <td>SI1</td>\n",
       "      <td>59.8</td>\n",
       "      <td>61.0</td>\n",
       "      <td>3.89</td>\n",
       "      <td>3.84</td>\n",
       "      <td>2.31</td>\n",
       "      <td>326</td>\n",
       "    </tr>\n",
       "    <tr>\n",
       "      <th>2</th>\n",
       "      <td>0.23</td>\n",
       "      <td>Good</td>\n",
       "      <td>E</td>\n",
       "      <td>VS1</td>\n",
       "      <td>56.9</td>\n",
       "      <td>65.0</td>\n",
       "      <td>4.05</td>\n",
       "      <td>4.07</td>\n",
       "      <td>2.31</td>\n",
       "      <td>327</td>\n",
       "    </tr>\n",
       "    <tr>\n",
       "      <th>3</th>\n",
       "      <td>0.29</td>\n",
       "      <td>Premium</td>\n",
       "      <td>I</td>\n",
       "      <td>VS2</td>\n",
       "      <td>62.4</td>\n",
       "      <td>58.0</td>\n",
       "      <td>4.20</td>\n",
       "      <td>4.23</td>\n",
       "      <td>2.63</td>\n",
       "      <td>334</td>\n",
       "    </tr>\n",
       "    <tr>\n",
       "      <th>4</th>\n",
       "      <td>0.31</td>\n",
       "      <td>Good</td>\n",
       "      <td>J</td>\n",
       "      <td>SI2</td>\n",
       "      <td>63.3</td>\n",
       "      <td>58.0</td>\n",
       "      <td>4.34</td>\n",
       "      <td>4.35</td>\n",
       "      <td>2.75</td>\n",
       "      <td>335</td>\n",
       "    </tr>\n",
       "    <tr>\n",
       "      <th>...</th>\n",
       "      <td>...</td>\n",
       "      <td>...</td>\n",
       "      <td>...</td>\n",
       "      <td>...</td>\n",
       "      <td>...</td>\n",
       "      <td>...</td>\n",
       "      <td>...</td>\n",
       "      <td>...</td>\n",
       "      <td>...</td>\n",
       "      <td>...</td>\n",
       "    </tr>\n",
       "    <tr>\n",
       "      <th>53935</th>\n",
       "      <td>0.72</td>\n",
       "      <td>Ideal</td>\n",
       "      <td>D</td>\n",
       "      <td>SI1</td>\n",
       "      <td>60.8</td>\n",
       "      <td>57.0</td>\n",
       "      <td>5.75</td>\n",
       "      <td>5.76</td>\n",
       "      <td>3.50</td>\n",
       "      <td>2757</td>\n",
       "    </tr>\n",
       "    <tr>\n",
       "      <th>53936</th>\n",
       "      <td>0.72</td>\n",
       "      <td>Good</td>\n",
       "      <td>D</td>\n",
       "      <td>SI1</td>\n",
       "      <td>63.1</td>\n",
       "      <td>55.0</td>\n",
       "      <td>5.69</td>\n",
       "      <td>5.75</td>\n",
       "      <td>3.61</td>\n",
       "      <td>2757</td>\n",
       "    </tr>\n",
       "    <tr>\n",
       "      <th>53937</th>\n",
       "      <td>0.70</td>\n",
       "      <td>Very Good</td>\n",
       "      <td>D</td>\n",
       "      <td>SI1</td>\n",
       "      <td>62.8</td>\n",
       "      <td>60.0</td>\n",
       "      <td>5.66</td>\n",
       "      <td>5.68</td>\n",
       "      <td>3.56</td>\n",
       "      <td>2757</td>\n",
       "    </tr>\n",
       "    <tr>\n",
       "      <th>53938</th>\n",
       "      <td>0.86</td>\n",
       "      <td>Premium</td>\n",
       "      <td>H</td>\n",
       "      <td>SI2</td>\n",
       "      <td>61.0</td>\n",
       "      <td>58.0</td>\n",
       "      <td>6.15</td>\n",
       "      <td>6.12</td>\n",
       "      <td>3.74</td>\n",
       "      <td>2757</td>\n",
       "    </tr>\n",
       "    <tr>\n",
       "      <th>53939</th>\n",
       "      <td>0.75</td>\n",
       "      <td>Ideal</td>\n",
       "      <td>D</td>\n",
       "      <td>SI2</td>\n",
       "      <td>62.2</td>\n",
       "      <td>55.0</td>\n",
       "      <td>5.83</td>\n",
       "      <td>5.87</td>\n",
       "      <td>3.64</td>\n",
       "      <td>2757</td>\n",
       "    </tr>\n",
       "  </tbody>\n",
       "</table>\n",
       "<p>53940 rows × 10 columns</p>\n",
       "</div>"
      ],
      "text/plain": [
       "       carat        cut color clarity  depth  table     x     y     z  price\n",
       "0       0.23      Ideal     E     SI2   61.5   55.0  3.95  3.98  2.43    326\n",
       "1       0.21    Premium     E     SI1   59.8   61.0  3.89  3.84  2.31    326\n",
       "2       0.23       Good     E     VS1   56.9   65.0  4.05  4.07  2.31    327\n",
       "3       0.29    Premium     I     VS2   62.4   58.0  4.20  4.23  2.63    334\n",
       "4       0.31       Good     J     SI2   63.3   58.0  4.34  4.35  2.75    335\n",
       "...      ...        ...   ...     ...    ...    ...   ...   ...   ...    ...\n",
       "53935   0.72      Ideal     D     SI1   60.8   57.0  5.75  5.76  3.50   2757\n",
       "53936   0.72       Good     D     SI1   63.1   55.0  5.69  5.75  3.61   2757\n",
       "53937   0.70  Very Good     D     SI1   62.8   60.0  5.66  5.68  3.56   2757\n",
       "53938   0.86    Premium     H     SI2   61.0   58.0  6.15  6.12  3.74   2757\n",
       "53939   0.75      Ideal     D     SI2   62.2   55.0  5.83  5.87  3.64   2757\n",
       "\n",
       "[53940 rows x 10 columns]"
      ]
     },
     "execution_count": 3,
     "metadata": {},
     "output_type": "execute_result"
    }
   ],
   "source": [
    "import numpy as np\n",
    "import pandas as pd\n",
    "import matplotlib.pyplot as plt\n",
    "import seaborn as sns\n",
    "import statsmodels.api as sm\n",
    "import statsmodels.formula.api as smf\n",
    "import patsy\n",
    "\n",
    "import warnings\n",
    "warnings.filterwarnings('ignore')\n",
    "\n",
    "pd.set_option('display.max_columns', None) \n",
    "\n",
    "%matplotlib inline \n",
    "%config InlineBackend.figure_format = 'retina'\n",
    "plt.style.use(\"ggplot\")\n",
    "\n",
    "df = pd.read_csv('Phase2_Group5.csv')\n",
    "df"
   ]
  },
  {
   "cell_type": "markdown",
   "id": "157c4a21",
   "metadata": {},
   "source": [
    "### Full Model Diagnostic Checks"
   ]
  },
  {
   "cell_type": "markdown",
   "id": "c7d806d7",
   "metadata": {},
   "source": [
    "You need to check whether there are indications of violations of the regression assumptions for the full model."
   ]
  },
  {
   "cell_type": "markdown",
   "id": "1c063146",
   "metadata": {},
   "source": [
    "### Feature Selection"
   ]
  },
  {
   "cell_type": "markdown",
   "id": "15a173b4",
   "metadata": {},
   "source": [
    "You can use the code below to to perform backward feature selection using p-values ([credit](https://github.com/akmand/stats_tutorials/blob/main/regression_case_study_predicting_age_in_census_data.ipynb))."
   ]
  },
  {
   "cell_type": "code",
   "execution_count": null,
   "id": "6ba32023",
   "metadata": {},
   "outputs": [],
   "source": [
    "## create the patsy model description from formula\n",
    "patsy_description = patsy.ModelDesc.from_formula(formula_string_encoded)\n",
    "\n",
    "# initialize feature-selected fit to full model\n",
    "linreg_fit = model_full_fitted\n",
    "\n",
    "# do backwards elimination using p-values\n",
    "p_val_cutoff = 0.05\n",
    "\n",
    "## WARNING 1: The code below assumes that the Intercept term is present in the model.\n",
    "## WARNING 2: It will work only with main effects and two-way interactions, if any.\n",
    "\n",
    "print('\\nPerforming backwards feature selection using p-values:')\n",
    "\n",
    "while True:\n",
    "\n",
    "    # uncomment the line below if you would like to see the regression summary\n",
    "    # in each step:\n",
    "    ### print(linreg_fit.summary())\n",
    "\n",
    "    pval_series = linreg_fit.pvalues.drop(labels='Intercept')\n",
    "    pval_series = pval_series.sort_values(ascending=False)\n",
    "    term = pval_series.index[0]\n",
    "    pval = pval_series[0]\n",
    "    if (pval < p_val_cutoff):\n",
    "        break\n",
    "    term_components = term.split(':')\n",
    "    print(f'\\nRemoving term \"{term}\" with p-value {pval:.4}')\n",
    "    if (len(term_components) == 1): ## this is a main effect term\n",
    "        patsy_description.rhs_termlist.remove(patsy.Term([patsy.EvalFactor(term_components[0])]))    \n",
    "    else: ## this is an interaction term\n",
    "        patsy_description.rhs_termlist.remove(patsy.Term([patsy.EvalFactor(term_components[0]), \n",
    "                                                        patsy.EvalFactor(term_components[1])]))    \n",
    "        \n",
    "    linreg_fit = smf.ols(formula=patsy_description, data=data_encoded).fit()\n",
    "    \n",
    "###\n",
    "## this is the clean fit after backwards elimination\n",
    "model_reduced_fitted = smf.ols(formula = patsy_description, data = data_encoded).fit()\n",
    "###\n",
    "    \n",
    "#########\n",
    "print(\"\\n***\")\n",
    "print(model_reduced_fitted.summary())\n",
    "print(\"***\")\n",
    "print(f\"Regression number of terms: {len(model_reduced_fitted.model.exog_names)}\")\n",
    "print(f\"Regression F-distribution p-value: {model_reduced_fitted.f_pvalue:.4f}\")\n",
    "print(f\"Regression R-squared: {model_reduced_fitted.rsquared:.4f}\")\n",
    "print(f\"Regression Adjusted R-squared: {model_reduced_fitted.rsquared_adj:.4f}\")"
   ]
  },
  {
   "cell_type": "markdown",
   "id": "4e44dd43",
   "metadata": {},
   "source": [
    "### Reduced Model Overview"
   ]
  },
  {
   "cell_type": "markdown",
   "id": "0bd350ff",
   "metadata": {},
   "source": [
    "Overview of your reduced model, including the variables and terms you are using in your model."
   ]
  },
  {
   "cell_type": "markdown",
   "id": "3998300b",
   "metadata": {},
   "source": [
    "### Reduced Model Diagnostic Checks"
   ]
  },
  {
   "cell_type": "markdown",
   "id": "826ebb23",
   "metadata": {},
   "source": [
    "You need to check whether there are indications of violations of the regression assumptions for the reduced model."
   ]
  },
  {
   "cell_type": "markdown",
   "id": "56194665",
   "metadata": {},
   "source": [
    "## Critique & Limitations <a id='cl'></a>"
   ]
  },
  {
   "cell_type": "markdown",
   "id": "85429c0e",
   "metadata": {},
   "source": [
    "Critique & Limitations of your approach: strengths and weaknesses in detail."
   ]
  },
  {
   "cell_type": "markdown",
   "id": "bfaf7b30",
   "metadata": {},
   "source": [
    "## Summary & Conclusions <a id='sc'></a>"
   ]
  },
  {
   "cell_type": "markdown",
   "id": "805dc4e6",
   "metadata": {},
   "source": [
    "### Project Summary"
   ]
  },
  {
   "cell_type": "markdown",
   "id": "7870cdcb",
   "metadata": {},
   "source": [
    "A comprehensive summary of your entire project (both Phase 1 and Phase 2). That is, what exactly did you do in your project? (Example: I first cleaned the data in such and such ways. And then I applied multiple linear regression techniques in such and such ways. etc)."
   ]
  },
  {
   "cell_type": "markdown",
   "id": "cec55d42",
   "metadata": {},
   "source": [
    "### Summary of Findings"
   ]
  },
  {
   "cell_type": "markdown",
   "id": "cd368839",
   "metadata": {},
   "source": [
    "A comprehensive summary of your findings. That is, what exactly did you find about your particular problem?"
   ]
  },
  {
   "cell_type": "markdown",
   "id": "04ce3e2c",
   "metadata": {},
   "source": [
    "### Conclusions"
   ]
  },
  {
   "cell_type": "markdown",
   "id": "549f0077",
   "metadata": {},
   "source": [
    "Your detailed conclusions as they relate to your goals and objectives."
   ]
  },
  {
   "cell_type": "code",
   "execution_count": null,
   "id": "86960eb6",
   "metadata": {},
   "outputs": [],
   "source": []
  }
 ],
 "metadata": {
  "kernelspec": {
   "display_name": "Python 3 (ipykernel)",
   "language": "python",
   "name": "python3"
  },
  "language_info": {
   "codemirror_mode": {
    "name": "ipython",
    "version": 3
   },
   "file_extension": ".py",
   "mimetype": "text/x-python",
   "name": "python",
   "nbconvert_exporter": "python",
   "pygments_lexer": "ipython3",
   "version": "3.8.10"
  }
 },
 "nbformat": 4,
 "nbformat_minor": 5
}
